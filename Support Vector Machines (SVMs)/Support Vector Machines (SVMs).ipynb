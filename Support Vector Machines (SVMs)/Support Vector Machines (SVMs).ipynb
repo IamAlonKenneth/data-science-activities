{
 "cells": [
  {
   "cell_type": "markdown",
   "id": "7268792f",
   "metadata": {},
   "source": [
    "# CO2 Decision Trees (CART) and Information Gain \n",
    "## Prepared by: Rob Eugene A. Dequiñon and John Kenneth P. Alon\n",
    "\n",
    "<b> Problem: </b> Heart disease remains a significant health concern in the Philippines. Early identification of individuals at risk of heart attack can enable timely interventions and lifestyle changes, potentially saving lives. Your task is to build a machine learning model to predict heart attack risk based on several health indicators.\n",
    "\n",
    "\n",
    "\n",
    "<b> Objectives: </b>\n",
    "\n",
    "This activity aims to deepen your understanding of the Support Vector Machine (SVM) classification algorithm in a more practical context. You will:\n",
    "\n",
    "Explore a dataset representing health indicators for individuals and their heart attack risk, understanding its characteristics and the classification challenge.\n",
    "Implement SVM models using Python's scikit-learn library to predict whether an individual is at 'High Risk' or 'Low Risk' of a heart attack.\n",
    "Explore different SVM kernel types (Linear, RBF, Polynomial) and adjust their hyperparameters (like C, gamma, and degree) to understand their impact on model performance and decision boundaries.\n",
    "Evaluate the model's performance using key metrics (accuracy, precision, and recall) to understand its effectiveness in this critical classification task.\n",
    "Visualize the model's decision boundary (for selected features) to gain intuitive insight into how SVMs make classifications based on health attributes.\n",
    "Discuss your findings, draw conclusions, and propose recommendations addressing the specific problems and objectives outlined below.\n"
   ]
  },
  {
   "cell_type": "code",
   "execution_count": 66,
   "id": "b811c324",
   "metadata": {},
   "outputs": [
    {
     "data": {
      "text/html": [
       "<div>\n",
       "<style scoped>\n",
       "    .dataframe tbody tr th:only-of-type {\n",
       "        vertical-align: middle;\n",
       "    }\n",
       "\n",
       "    .dataframe tbody tr th {\n",
       "        vertical-align: top;\n",
       "    }\n",
       "\n",
       "    .dataframe thead th {\n",
       "        text-align: right;\n",
       "    }\n",
       "</style>\n",
       "<table border=\"1\" class=\"dataframe\">\n",
       "  <thead>\n",
       "    <tr style=\"text-align: right;\">\n",
       "      <th></th>\n",
       "      <th>Age</th>\n",
       "      <th>Cholesterol</th>\n",
       "      <th>SystolicBP</th>\n",
       "      <th>BMI</th>\n",
       "      <th>ExerciseHours</th>\n",
       "      <th>Smoking</th>\n",
       "      <th>Diabetes</th>\n",
       "      <th>HeartAttackRisk</th>\n",
       "    </tr>\n",
       "  </thead>\n",
       "  <tbody>\n",
       "    <tr>\n",
       "      <th>0</th>\n",
       "      <td>52</td>\n",
       "      <td>241.980663</td>\n",
       "      <td>109.872326</td>\n",
       "      <td>18.000000</td>\n",
       "      <td>2.273013</td>\n",
       "      <td>0</td>\n",
       "      <td>0</td>\n",
       "      <td>0</td>\n",
       "    </tr>\n",
       "    <tr>\n",
       "      <th>1</th>\n",
       "      <td>42</td>\n",
       "      <td>227.739010</td>\n",
       "      <td>117.832220</td>\n",
       "      <td>20.698075</td>\n",
       "      <td>3.937593</td>\n",
       "      <td>0</td>\n",
       "      <td>0</td>\n",
       "      <td>0</td>\n",
       "    </tr>\n",
       "    <tr>\n",
       "      <th>2</th>\n",
       "      <td>54</td>\n",
       "      <td>201.788911</td>\n",
       "      <td>108.113701</td>\n",
       "      <td>22.931972</td>\n",
       "      <td>4.036034</td>\n",
       "      <td>0</td>\n",
       "      <td>0</td>\n",
       "      <td>0</td>\n",
       "    </tr>\n",
       "    <tr>\n",
       "      <th>3</th>\n",
       "      <td>67</td>\n",
       "      <td>180.591897</td>\n",
       "      <td>115.380577</td>\n",
       "      <td>34.438438</td>\n",
       "      <td>4.945261</td>\n",
       "      <td>0</td>\n",
       "      <td>0</td>\n",
       "      <td>0</td>\n",
       "    </tr>\n",
       "    <tr>\n",
       "      <th>4</th>\n",
       "      <td>41</td>\n",
       "      <td>220.946699</td>\n",
       "      <td>91.595780</td>\n",
       "      <td>27.782766</td>\n",
       "      <td>1.266283</td>\n",
       "      <td>0</td>\n",
       "      <td>1</td>\n",
       "      <td>1</td>\n",
       "    </tr>\n",
       "  </tbody>\n",
       "</table>\n",
       "</div>"
      ],
      "text/plain": [
       "   Age  Cholesterol  SystolicBP        BMI  ExerciseHours  Smoking  Diabetes  \\\n",
       "0   52   241.980663  109.872326  18.000000       2.273013        0         0   \n",
       "1   42   227.739010  117.832220  20.698075       3.937593        0         0   \n",
       "2   54   201.788911  108.113701  22.931972       4.036034        0         0   \n",
       "3   67   180.591897  115.380577  34.438438       4.945261        0         0   \n",
       "4   41   220.946699   91.595780  27.782766       1.266283        0         1   \n",
       "\n",
       "   HeartAttackRisk  \n",
       "0                0  \n",
       "1                0  \n",
       "2                0  \n",
       "3                0  \n",
       "4                1  "
      ]
     },
     "execution_count": 66,
     "metadata": {},
     "output_type": "execute_result"
    }
   ],
   "source": [
    "# 🧩 Imports\n",
    "import pandas as pd\n",
    "import numpy as np\n",
    "import seaborn as sns\n",
    "import matplotlib.pyplot as plt\n",
    "\n",
    "from sklearn.model_selection import train_test_split, GridSearchCV\n",
    "from sklearn.preprocessing import StandardScaler\n",
    "from sklearn.svm import SVC\n",
    "from sklearn.pipeline import Pipeline, make_pipeline \n",
    "from sklearn.metrics import accuracy_score, f1_score, precision_score, recall_score\n",
    "from sklearn.metrics import classification_report, confusion_matrix\n",
    "from sklearn.decomposition import PCA\n",
    "\n",
    "\n",
    "\n",
    "# 📂 Load dataset\n",
    "df = pd.read_csv(\"heart_attack_risk_data_ph.csv\")\n",
    "df.head()\n"
   ]
  },
  {
   "cell_type": "code",
   "execution_count": 67,
   "id": "f7e13917",
   "metadata": {},
   "outputs": [],
   "source": [
    "# 🎯 Features and Target\n",
    "X = df.drop(\"HeartAttackRisk\", axis=1)\n",
    "y = df[\"HeartAttackRisk\"]\n",
    "\n",
    "# 🔀 Train-Test Split\n",
    "X_train, X_test, y_train, y_test = train_test_split(\n",
    "    X, y,\n",
    "    test_size=0.2,\n",
    "    random_state=42,\n",
    "    stratify=y\n",
    ")\n"
   ]
  },
  {
   "cell_type": "code",
   "execution_count": null,
   "id": "0904d42d",
   "metadata": {},
   "outputs": [],
   "source": [
    "# =========================================\n",
    "# 🔧 RBF SVM\n",
    "# =========================================\n",
    "rbf_pipeline = Pipeline([\n",
    "    ('scaler', StandardScaler()),\n",
    "    ('svm', SVC(kernel='rbf'))\n",
    "])\n",
    "\n",
    "param_grid_rbf = {\n",
    "    'svm__C': np.arange(0.1, 5, 0.1),\n",
    "    'svm__gamma': np.arange(0.01, 5, 0.1)\n",
    "}\n",
    "\n",
    "grid_rbf = GridSearchCV(rbf_pipeline, param_grid_rbf, cv=5, scoring='accuracy')\n",
    "grid_rbf.fit(X_train, y_train)\n",
    "\n",
    "print(\"🔍 Best RBF Parameters:\", grid_rbf.best_params_)\n",
    "print(\"📈 Best RBF Cross-Validated Accuracy:\", grid_rbf.best_score_)\n"
   ]
  },
  {
   "cell_type": "code",
   "execution_count": null,
   "id": "5396d77d",
   "metadata": {},
   "outputs": [
    {
     "name": "stdout",
     "output_type": "stream",
     "text": [
      "\n",
      "📊 RBF Classification Report:\n",
      "              precision    recall  f1-score   support\n",
      "\n",
      "           0       0.94      0.94      0.94       169\n",
      "           1       0.68      0.68      0.68        31\n",
      "\n",
      "    accuracy                           0.90       200\n",
      "   macro avg       0.81      0.81      0.81       200\n",
      "weighted avg       0.90      0.90      0.90       200\n",
      "\n"
     ]
    },
    {
     "data": {
      "image/png": "[encoded data removed]",
      "text/plain": [
       "<Figure size 640x480 with 2 Axes>"
      ]
     },
     "metadata": {},
     "output_type": "display_data"
    }
   ],
   "source": [
    "# ✅ Evaluate best RBF model on test set\n",
    "best_rbf = grid_rbf.best_estimator_\n",
    "y_pred_rbf = best_rbf.predict(X_test)\n",
    "\n",
    "print(\"\\n📊 RBF Classification Report:\")\n",
    "print(classification_report(y_test, y_pred_rbf))\n",
    "\n",
    "# 🔍 Confusion Matrix\n",
    "sns.heatmap(confusion_matrix(y_test, y_pred_rbf), annot=True, fmt='d', cmap='Blues')\n",
    "plt.title(\"Confusion Matrix - Best RBF SVM\")\n",
    "plt.xlabel(\"Predicted\")\n",
    "plt.ylabel(\"Actual\")\n",
    "plt.show()\n"
   ]
  },
  {
   "cell_type": "code",
   "execution_count": null,
   "id": "b65fdac8",
   "metadata": {},
   "outputs": [
    {
     "name": "stdout",
     "output_type": "stream",
     "text": [
      "🔍 Best Polynomial Parameters: {'svm__C': np.float64(0.30000000000000004), 'svm__degree': np.int64(4)}\n",
      "📈 Best Polynomial Cross-Validated Accuracy: 0.9125\n"
     ]
    }
   ],
   "source": [
    "# =========================================\n",
    "# 🔧 Polynomial SVM\n",
    "# =========================================\n",
    "poly_pipeline = Pipeline([\n",
    "    ('scaler', StandardScaler()),\n",
    "    ('svm', SVC(kernel='poly'))\n",
    "])\n",
    "\n",
    "param_grid_poly = {\n",
    "    'svm__C': np.arange(0.1, 5, 0.1),\n",
    "    'svm__degree': np.arange(1, 50, 1)\n",
    "}\n",
    "\n",
    "grid_poly = GridSearchCV(poly_pipeline, param_grid_poly, cv=5, scoring='accuracy')\n",
    "grid_poly.fit(X_train, y_train)\n",
    "\n",
    "print(\"🔍 Best Polynomial Parameters:\", grid_poly.best_params_)\n",
    "print(\"📈 Best Polynomial Cross-Validated Accuracy:\", grid_poly.best_score_)\n"
   ]
  },
  {
   "cell_type": "code",
   "execution_count": null,
   "id": "0af91f3f",
   "metadata": {},
   "outputs": [
    {
     "name": "stdout",
     "output_type": "stream",
     "text": [
      "\n",
      "📊 Polynomial Classification Report:\n"
     ]
    },
    {
     "name": "stdout",
     "output_type": "stream",
     "text": [
      "              precision    recall  f1-score   support\n",
      "\n",
      "           0       0.94      0.94      0.94       169\n",
      "           1       0.67      0.65      0.66        31\n",
      "\n",
      "    accuracy                           0.90       200\n",
      "   macro avg       0.80      0.79      0.80       200\n",
      "weighted avg       0.89      0.90      0.89       200\n",
      "\n"
     ]
    },
    {
     "data": {
      "image/png": "[encoded data removed]",
      "text/plain": [
       "<Figure size 640x480 with 2 Axes>"
      ]
     },
     "metadata": {},
     "output_type": "display_data"
    }
   ],
   "source": [
    "# ✅ Evaluate best Polynomial model on test set\n",
    "best_poly = grid_poly.best_estimator_\n",
    "y_pred_poly = best_poly.predict(X_test)\n",
    "\n",
    "print(\"\\n📊 Polynomial Classification Report:\")\n",
    "print(classification_report(y_test, y_pred_poly))\n",
    "\n",
    "# 🔍 Confusion Matrix\n",
    "sns.heatmap(confusion_matrix(y_test, y_pred_poly), annot=True, fmt='d', cmap='Purples')\n",
    "plt.title(\"Confusion Matrix - Best Polynomial SVM\")\n",
    "plt.xlabel(\"Predicted\")\n",
    "plt.ylabel(\"Actual\")\n",
    "plt.show()\n"
   ]
  },
  {
   "cell_type": "code",
   "execution_count": null,
   "id": "a63399d0",
   "metadata": {},
   "outputs": [
    {
     "name": "stdout",
     "output_type": "stream",
     "text": [
      "🔍 Best Linear SVM Parameters: {'svm__C': np.int64(1)}\n",
      "📈 Best Linear SVM Cross-Validated Accuracy: 0.9112499999999999\n"
     ]
    }
   ],
   "source": [
    "# =========================================\n",
    "# 🔧 Linear SVM: Hyperparameter Tuning\n",
    "# =========================================\n",
    "linear_pipeline = Pipeline([\n",
    "    ('scaler', StandardScaler()),\n",
    "    ('svm', SVC(kernel='linear'))\n",
    "])\n",
    "\n",
    "param_grid_linear = {\n",
    "    'svm__C': np.arange(1, 50, 1)\n",
    "}\n",
    "\n",
    "grid_linear = GridSearchCV(linear_pipeline, param_grid_linear, cv=5, scoring='accuracy')\n",
    "grid_linear.fit(X_train, y_train)\n",
    "\n",
    "print(\"🔍 Best Linear SVM Parameters:\", grid_linear.best_params_)\n",
    "print(\"📈 Best Linear SVM Cross-Validated Accuracy:\", grid_linear.best_score_)\n"
   ]
  },
  {
   "cell_type": "code",
   "execution_count": null,
   "id": "8d308b9f",
   "metadata": {},
   "outputs": [
    {
     "name": "stdout",
     "output_type": "stream",
     "text": [
      "\n",
      "📊 Linear SVM Classification Report:\n",
      "              precision    recall  f1-score   support\n",
      "\n",
      "           0       0.94      0.94      0.94       169\n",
      "           1       0.68      0.68      0.68        31\n",
      "\n",
      "    accuracy                           0.90       200\n",
      "   macro avg       0.81      0.81      0.81       200\n",
      "weighted avg       0.90      0.90      0.90       200\n",
      "\n"
     ]
    },
    {
     "data": {
      "image/png": "[encoded data removed]",
      "text/plain": [
       "<Figure size 640x480 with 2 Axes>"
      ]
     },
     "metadata": {},
     "output_type": "display_data"
    }
   ],
   "source": [
    "# ✅ Evaluate best Linear SVM model on test set\n",
    "best_linear = grid_linear.best_estimator_\n",
    "y_pred_linear = best_linear.predict(X_test)\n",
    "\n",
    "print(\"\\n📊 Linear SVM Classification Report:\")\n",
    "print(classification_report(y_test, y_pred_linear))\n",
    "\n",
    "# 🔍 Confusion Matrix\n",
    "sns.heatmap(confusion_matrix(y_test, y_pred_linear), annot=True, fmt='d', cmap='Greens')\n",
    "plt.title(\"Confusion Matrix - Best Linear SVM\")\n",
    "plt.xlabel(\"Predicted\")\n",
    "plt.ylabel(\"Actual\")\n",
    "plt.show()\n"
   ]
  },
  {
   "cell_type": "markdown",
   "id": "819aeab1",
   "metadata": {},
   "source": [
    "# Visualization Using PCA\n"
   ]
  },
  {
   "cell_type": "code",
   "execution_count": null,
   "id": "7edaa67e",
   "metadata": {},
   "outputs": [],
   "source": [
    "# Fit PCA on scaled full dataset (important: scale before PCA!)\n",
    "scaler = StandardScaler()\n",
    "X_scaled = scaler.fit_transform(X)\n",
    "\n",
    "# Reduce to 2 principal components\n",
    "pca = PCA(n_components=2)\n",
    "X_pca = pca.fit_transform(X_scaled)\n",
    "\n",
    "# Save reduced dataset for visualization\n",
    "X_pca_df = pd.DataFrame(X_pca, columns=[\"PC1\", \"PC2\"])\n",
    "X_pca_df[\"HeartAttackRisk\"] = y.values"
   ]
  },
  {
   "cell_type": "code",
   "execution_count": null,
   "id": "e521fc15",
   "metadata": {},
   "outputs": [],
   "source": [
    "# Redefine features and target from PCA output\n",
    "X_vis = X_pca_df[[\"PC1\", \"PC2\"]]\n",
    "y_vis = X_pca_df[\"HeartAttackRisk\"]\n",
    "\n",
    "# Split PCA-reduced data (same test split for consistency)\n",
    "X_vis_train, X_vis_test, y_vis_train, y_vis_test = train_test_split(\n",
    "    X_vis, y_vis, test_size=0.2, random_state=42, stratify=y_vis\n",
    ")\n",
    "\n",
    "# Train all three best models (Linear, RBF, Polynomial) on PCA data\n",
    "linear_pca = SVC(kernel='linear', C=grid_linear.best_params_['svm__C']).fit(X_vis_train, y_vis_train)\n",
    "rbf_pca = SVC(kernel='rbf', C=grid_rbf.best_params_['svm__C'], gamma=grid_rbf.best_params_['svm__gamma']).fit(X_vis_train, y_vis_train)\n",
    "poly_pca = SVC(kernel='poly', C=grid_poly.best_params_['svm__C'], degree=grid_poly.best_params_['svm__degree']).fit(X_vis_train, y_vis_train)\n"
   ]
  },
  {
   "cell_type": "code",
   "execution_count": null,
   "id": "4b8c8eda",
   "metadata": {},
   "outputs": [],
   "source": [
    "# Function to plot decision boundary of a 2D SVM\n",
    "def plot_svm_boundary(model, X, y, title, cmap=plt.cm.coolwarm):\n",
    "    h = 0.02  # step size in mesh\n",
    "    x_min, x_max = X.iloc[:, 0].min() - 1, X.iloc[:, 0].max() + 1\n",
    "    y_min, y_max = X.iloc[:, 1].min() - 1, X.iloc[:, 1].max() + 1\n",
    "    xx, yy = np.meshgrid(np.arange(x_min, x_max, h),\n",
    "                         np.arange(y_min, y_max, h))\n",
    "    \n",
    "    Z = model.predict(np.c_[xx.ravel(), yy.ravel()])\n",
    "    Z = Z.reshape(xx.shape)\n",
    "\n",
    "    plt.figure(figsize=(7, 5))\n",
    "    plt.contourf(xx, yy, Z, cmap=cmap, alpha=0.6)\n",
    "    sns.scatterplot(x=X.iloc[:, 0], y=X.iloc[:, 1], hue=y, palette=\"Set1\", edgecolor='k')\n",
    "    plt.title(title)\n",
    "    plt.xlabel(\"PC1\")\n",
    "    plt.ylabel(\"PC2\")\n",
    "    plt.legend(title=\"HeartAttackRisk\")\n",
    "    plt.show()\n"
   ]
  },
  {
   "cell_type": "code",
   "execution_count": null,
   "id": "6472c777",
   "metadata": {},
   "outputs": [],
   "source": [
    "# Visualize decision boundary for Linear SVM\n",
    "plot_svm_boundary(linear_pca, X_vis_test, y_vis_test, \"Linear SVM Decision Boundary\")"
   ]
  },
  {
   "cell_type": "code",
   "execution_count": null,
   "id": "e9eab3fb",
   "metadata": {},
   "outputs": [],
   "source": [
    "# Visualize decision boundary for RBF SVM\n",
    "plot_svm_boundary(rbf_pca, X_vis_test, y_vis_test, \"RBF SVM Decision Boundary\")"
   ]
  },
  {
   "cell_type": "code",
   "execution_count": null,
   "id": "92de59e9",
   "metadata": {},
   "outputs": [],
   "source": [
    "# Visualize decision boundary for Polynomial SVM\n",
    "plot_svm_boundary(poly_pca, X_vis_test, y_vis_test, \"Polynomial SVM Decision Boundary\")"
   ]
  }
 ],
 "metadata": {
  "kernelspec": {
   "display_name": "Python 3",
   "language": "python",
   "name": "python3"
  },
  "language_info": {
   "codemirror_mode": {
    "name": "ipython",
    "version": 3
   },
   "file_extension": ".py",
   "mimetype": "text/x-python",
   "name": "python",
   "nbconvert_exporter": "python",
   "pygments_lexer": "ipython3",
   "version": "3.12.6"
  }
 },
 "nbformat": 4,
 "nbformat_minor": 5
}
